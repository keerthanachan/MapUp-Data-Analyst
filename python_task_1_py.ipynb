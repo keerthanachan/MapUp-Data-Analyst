{
  "nbformat": 4,
  "nbformat_minor": 0,
  "metadata": {
    "colab": {
      "provenance": [],
      "authorship_tag": "ABX9TyN8oiiSZRM0Wq8SVkZqMiVa",
      "include_colab_link": true
    },
    "kernelspec": {
      "name": "python3",
      "display_name": "Python 3"
    },
    "language_info": {
      "name": "python"
    }
  },
  "cells": [
    {
      "cell_type": "markdown",
      "metadata": {
        "id": "view-in-github",
        "colab_type": "text"
      },
      "source": [
        "<a href=\"https://colab.research.google.com/github/keerthanachan/MapUp-Data-Analyst/blob/main/python_task_1_py.ipynb\" target=\"_parent\"><img src=\"https://colab.research.google.com/assets/colab-badge.svg\" alt=\"Open In Colab\"/></a>"
      ]
    },
    {
      "cell_type": "code",
      "source": [
        "import pandas as pd\n",
        "import numpy as np"
      ],
      "metadata": {
        "id": "Yu6204ZTMz3F"
      },
      "execution_count": null,
      "outputs": []
    },
    {
      "cell_type": "code",
      "source": [
        "# Question 1: Car Matrix Generation\n",
        "def generate_car_matrix(df):\n",
        "    # Pivot the DataFrame to get 'car' values based on 'id_1' and 'id_2'\n",
        "    car_matrix = df.pivot(index='id_1', columns='id_2', values='car').fillna(0)\n",
        "\n",
        "    # Calculate the distances and update the matrix\n",
        "    for idx in car_matrix.index:\n",
        "        for col in car_matrix.columns:\n",
        "            if idx != col:\n",
        "                # Calculate the distance (you can replace this with your actual distance formula)\n",
        "                distance = abs(car_matrix.loc[idx, col] - car_matrix.loc[col, idx])\n",
        "                car_matrix.at[idx, col] = distance\n",
        "\n",
        "    return car_matrix\n",
        "\n",
        "# Apply the function\n",
        "car_matrix = generate_car_matrix(df)\n",
        "\n",
        "# Display the result\n",
        "print(car_matrix)\n"
      ],
      "metadata": {
        "id": "QfHDMQ1wNQlY",
        "outputId": "32312d4c-0754-4d67-8d3a-33ed98f244b4",
        "colab": {
          "base_uri": "https://localhost:8080/"
        }
      },
      "execution_count": null,
      "outputs": [
        {
          "output_type": "stream",
          "name": "stdout",
          "text": [
            "id_2    801    802    803    804    805    806    807    808    809    821  \\\n",
            "id_1                                                                         \n",
            "801    0.00   0.00   0.00   0.00   0.00   0.00   0.00   0.00   0.00   0.00   \n",
            "802    2.80   0.00   0.00   0.00   0.00   0.00   0.00   0.00   0.00   0.00   \n",
            "803    6.00   3.40   0.00   0.00   0.00   0.00   0.00   0.00   0.00   0.00   \n",
            "804    7.70   5.20   2.00   0.00   0.00   0.00   0.00   0.00   0.00   0.00   \n",
            "805   11.70   9.20   6.00   4.40   0.00   0.00   0.00   0.00   0.00   0.00   \n",
            "806   13.40  10.90   7.70   6.10   2.00   0.00   0.00   0.00   0.00   0.00   \n",
            "807   16.90  14.30  11.10   9.50   5.40   3.80   0.00   0.00   0.00   0.00   \n",
            "808   19.60  17.10  13.90  12.30   8.20   6.60   2.90   0.00   0.00   0.00   \n",
            "809   21.00  18.50  15.30  13.70   9.60   8.00   4.30   1.70   0.00   0.00   \n",
            "821   23.52  20.92  17.72  16.12  12.02  10.42   6.82   4.12   2.92   0.00   \n",
            "822   24.67  22.07  18.87  17.27  13.17  11.57   7.97   5.27   4.07   1.80   \n",
            "823   26.53  23.93  20.73  19.13  15.03  13.43   9.83   7.13   5.93   3.67   \n",
            "824   27.92  25.32  22.12  20.52  16.42   0.78  11.22   8.52   7.32   5.06   \n",
            "825   29.08  26.48  23.28  21.68  17.58  15.98  12.38   9.68   8.48   6.22   \n",
            "826   30.87  28.27  25.07  23.47  19.37  17.77  14.17  11.47  10.27   8.01   \n",
            "827   32.53  29.93  26.73  25.13  21.03  19.43  15.83  13.13  11.93   9.43   \n",
            "829   36.32  33.72  30.52  28.92  24.82  23.22  19.62  16.92  15.72  13.26   \n",
            "830   38.27  35.67  32.47  30.87  26.77  25.17  21.57  18.87  17.67  15.17   \n",
            "831   39.24  36.64  33.44  31.84  27.74  26.14  22.54  19.84  18.64  16.15   \n",
            "\n",
            "id_2    822    823    824    825   826   827    829   830  831  \n",
            "id_1                                                            \n",
            "801    0.00   0.00   0.00   0.00  0.00  0.00   0.00  0.00  0.0  \n",
            "802    0.00   0.00   0.00   0.00  0.00  0.00   0.00  0.00  0.0  \n",
            "803    0.00   0.00   0.00   0.00  0.00  0.00   0.00  0.00  0.0  \n",
            "804    0.00   0.00   0.00   0.00  0.00  0.00   0.00  0.00  0.0  \n",
            "805    0.00   0.00   0.00   0.00  0.00  0.00   0.00  0.00  0.0  \n",
            "806    0.00   0.00   7.02   0.00  0.00  0.00   0.00  0.00  0.0  \n",
            "807    0.00   0.00   0.00   0.00  0.00  0.00   0.00  0.00  0.0  \n",
            "808    0.00   0.00   0.00   0.00  0.00  0.00   0.00  0.00  0.0  \n",
            "809    0.00   0.00   0.00   0.00  0.00  0.00   0.00  0.00  0.0  \n",
            "821    0.00   0.00   0.00   0.00  0.00  0.00   0.00  0.00  0.0  \n",
            "822    0.00   0.00   0.00   0.00  0.00  0.00   0.00  0.00  0.0  \n",
            "823    2.21   0.00   0.00   0.00  0.00  0.00   0.00  0.00  0.0  \n",
            "824    3.60   1.79   0.00   0.00  0.00  0.00  12.63  0.00  0.0  \n",
            "825    4.76   2.94   1.71   0.00  0.00  0.00   0.00  9.35  0.0  \n",
            "826    6.55   4.74   3.50   2.20  0.00  0.00   0.00  0.00  0.0  \n",
            "827    8.00   6.15   4.92   3.65  2.05  0.00   0.00  0.00  0.0  \n",
            "829   11.81  10.00   8.77   7.46  5.81  4.14   0.00  0.00  0.0  \n",
            "830   13.74  11.89  10.66   9.35  7.71  6.06   2.38  0.00  0.0  \n",
            "831   14.68  12.87  11.64  10.33  8.69  7.04   3.36  1.39  0.0  \n"
          ]
        }
      ]
    },
    {
      "cell_type": "code",
      "source": [
        "# Question 2: Car Type Count Calculation\n",
        "def get_type_count(df):\n",
        "    df['car_type'] = pd.cut(df['car'], bins=[-float('inf'), 15, 25, float('inf')],\n",
        "                            labels=['low', 'medium', 'high'])\n",
        "    type_count = df['car_type'].value_counts().to_dict()\n",
        "    return dict(sorted(type_count.items()))\n",
        "type_count = get_type_count(df)\n",
        "print(type_count)\n"
      ],
      "metadata": {
        "id": "y8KM5SzhNbdD",
        "outputId": "8047445d-6fcc-4c09-a57f-96fa2aed7735",
        "colab": {
          "base_uri": "https://localhost:8080/"
        }
      },
      "execution_count": null,
      "outputs": [
        {
          "output_type": "stream",
          "name": "stdout",
          "text": [
            "{'high': 56, 'low': 196, 'medium': 89}\n"
          ]
        }
      ]
    },
    {
      "cell_type": "code",
      "source": [
        "# Question 3: Bus Count Index Retrieval\n",
        "def get_bus_indexes(df):\n",
        "    mean_bus = df['bus'].mean()\n",
        "    bus_indexes = df[df['bus'] > 2 * mean_bus].index.tolist()\n",
        "    return sorted(bus_indexes)\n",
        "bus_indexes = get_bus_indexes(df)\n",
        "print(bus_indexes)\n",
        "\n"
      ],
      "metadata": {
        "id": "q8eSGikTNi4g",
        "outputId": "41c224db-223c-4458-9870-772194c9119e",
        "colab": {
          "base_uri": "https://localhost:8080/"
        }
      },
      "execution_count": null,
      "outputs": [
        {
          "output_type": "stream",
          "name": "stdout",
          "text": [
            "[2, 7, 12, 17, 25, 30, 54, 64, 70, 97, 144, 145, 149, 154, 160, 201, 206, 210, 215, 234, 235, 245, 250, 309, 314, 319, 322, 323, 334, 340]\n"
          ]
        }
      ]
    },
    {
      "cell_type": "code",
      "source": [
        "# Question 4: Route Filtering\n",
        "def filter_routes(df):\n",
        "    avg_truck_routes = df.groupby('route')['truck'].mean()\n",
        "    filtered_routes = avg_truck_routes[avg_truck_routes > 7].index.tolist()\n",
        "    return sorted(filtered_routes)\n",
        "filtered_routes = filter_routes(df)\n",
        "print(filtered_routes)"
      ],
      "metadata": {
        "id": "_sQNl8kINk5M",
        "outputId": "3185f5c6-3ebe-4186-f12d-d84481e98318",
        "colab": {
          "base_uri": "https://localhost:8080/"
        }
      },
      "execution_count": null,
      "outputs": [
        {
          "output_type": "stream",
          "name": "stdout",
          "text": [
            "[1, 2, 3, 4, 5, 6, 7, 8, 9, 10]\n"
          ]
        }
      ]
    },
    {
      "cell_type": "code",
      "source": [
        "# Question 5: Matrix Value Modification\n",
        "def multiply_matrix(car_matrix):\n",
        "    modified_matrix = car_matrix.copy()\n",
        "\n",
        "    for idx in modified_matrix.index:\n",
        "        for col in modified_matrix.columns:\n",
        "            if idx == col:\n",
        "                modified_matrix.at[idx, col] = 0.0\n",
        "            else:\n",
        "                if modified_matrix.at[idx, col] > 20:\n",
        "                    modified_matrix.at[idx, col] *= 0.75\n",
        "                else:\n",
        "                    modified_matrix.at[idx, col] *= 1.25\n",
        "\n",
        "    return modified_matrix.round(1)\n",
        "\n",
        "\n",
        "modified_matrix = multiply_matrix(car_matrix)\n",
        "\n",
        "\n",
        "print(modified_matrix)\n"
      ],
      "metadata": {
        "id": "44z8yH_8Ntjf",
        "outputId": "be3233cb-8862-4ecf-e467-bfabf3d9097d",
        "colab": {
          "base_uri": "https://localhost:8080/"
        }
      },
      "execution_count": null,
      "outputs": [
        {
          "output_type": "stream",
          "name": "stdout",
          "text": [
            "id_2   801   802   803   804   805   806   807   808   809   821   822   823  \\\n",
            "id_1                                                                           \n",
            "801    0.0   0.0   0.0   0.0   0.0   0.0   0.0   0.0   0.0   0.0   0.0   0.0   \n",
            "802    3.5   0.0   0.0   0.0   0.0   0.0   0.0   0.0   0.0   0.0   0.0   0.0   \n",
            "803    7.5   4.2   0.0   0.0   0.0   0.0   0.0   0.0   0.0   0.0   0.0   0.0   \n",
            "804    9.6   6.5   2.5   0.0   0.0   0.0   0.0   0.0   0.0   0.0   0.0   0.0   \n",
            "805   14.6  11.5   7.5   5.5   0.0   0.0   0.0   0.0   0.0   0.0   0.0   0.0   \n",
            "806   16.8  13.6   9.6   7.6   2.5   0.0   0.0   0.0   0.0   0.0   0.0   0.0   \n",
            "807   21.1  17.9  13.9  11.9   6.8   4.8   0.0   0.0   0.0   0.0   0.0   0.0   \n",
            "808   24.5  21.4  17.4  15.4  10.2   8.2   3.6   0.0   0.0   0.0   0.0   0.0   \n",
            "809   15.8  23.1  19.1  17.1  12.0  10.0   5.4   2.1   0.0   0.0   0.0   0.0   \n",
            "821   17.6  15.7  22.2  20.2  15.0  13.0   8.5   5.2   3.6   0.0   0.0   0.0   \n",
            "822   18.5  16.6  23.6  21.6  16.5  14.5  10.0   6.6   5.1   2.2   0.0   0.0   \n",
            "823   19.9  17.9  15.5  23.9  18.8  16.8  12.3   8.9   7.4   4.6   2.8   0.0   \n",
            "824   20.9  19.0  16.6  15.4  20.5   1.0  14.0  10.6   9.2   6.3   4.5   2.2   \n",
            "825   21.8  19.9  17.5  16.3  22.0  20.0  15.5  12.1  10.6   7.8   5.9   3.7   \n",
            "826   23.2  21.2  18.8  17.6  24.2  22.2  17.7  14.3  12.8  10.0   8.2   5.9   \n",
            "827   24.4  22.4  20.0  18.8  15.8  24.3  19.8  16.4  14.9  11.8  10.0   7.7   \n",
            "829   27.2  25.3  22.9  21.7  18.6  17.4  24.5  21.2  19.7  16.6  14.8  12.5   \n",
            "830   28.7  26.8  24.4  23.2  20.1  18.9  16.2  23.6  22.1  19.0  17.2  14.9   \n",
            "831   29.4  27.5  25.1  23.9  20.8  19.6  16.9  24.8  23.3  20.2  18.4  16.1   \n",
            "\n",
            "id_2   824   825   826  827   829   830  831  \n",
            "id_1                                          \n",
            "801    0.0   0.0   0.0  0.0   0.0   0.0  0.0  \n",
            "802    0.0   0.0   0.0  0.0   0.0   0.0  0.0  \n",
            "803    0.0   0.0   0.0  0.0   0.0   0.0  0.0  \n",
            "804    0.0   0.0   0.0  0.0   0.0   0.0  0.0  \n",
            "805    0.0   0.0   0.0  0.0   0.0   0.0  0.0  \n",
            "806    8.8   0.0   0.0  0.0   0.0   0.0  0.0  \n",
            "807    0.0   0.0   0.0  0.0   0.0   0.0  0.0  \n",
            "808    0.0   0.0   0.0  0.0   0.0   0.0  0.0  \n",
            "809    0.0   0.0   0.0  0.0   0.0   0.0  0.0  \n",
            "821    0.0   0.0   0.0  0.0   0.0   0.0  0.0  \n",
            "822    0.0   0.0   0.0  0.0   0.0   0.0  0.0  \n",
            "823    0.0   0.0   0.0  0.0   0.0   0.0  0.0  \n",
            "824    0.0   0.0   0.0  0.0  15.8   0.0  0.0  \n",
            "825    2.1   0.0   0.0  0.0   0.0  11.7  0.0  \n",
            "826    4.4   2.8   0.0  0.0   0.0   0.0  0.0  \n",
            "827    6.2   4.6   2.6  0.0   0.0   0.0  0.0  \n",
            "829   11.0   9.3   7.3  5.2   0.0   0.0  0.0  \n",
            "830   13.3  11.7   9.6  7.6   3.0   0.0  0.0  \n",
            "831   14.6  12.9  10.9  8.8   4.2   1.7  0.0  \n"
          ]
        }
      ]
    },
    {
      "cell_type": "code",
      "source": [
        "# Question 6: Time Check\n",
        "def check_time_completeness(df):\n",
        "    df['start_time'] = pd.to_datetime(df['startTime'])\n",
        "    df['end_time'] = pd.to_datetime(df['endTime'])\n",
        "\n",
        "    # Convert 'startDay' and 'endDay' to numeric\n",
        "    df['startDay'] = pd.to_numeric(df['startDay'], errors='coerce')\n",
        "    df['endDay'] = pd.to_numeric(df['endDay'], errors='coerce')\n",
        "\n",
        "    df['full_day_coverage'] = (\n",
        "        (df['end_time'] - df['start_time']).dt.total_seconds() == 86400) & (df['endDay'] - df['startDay'] == 6)  # Check for spanning all 7 days\n",
        "    result_series = df.groupby(['id', 'id_2'])['full_day_coverage'].all()\n",
        "    return result_series\n",
        "    time_completeness = check_time_completeness(pd.read_csv(\"dataset-2.csv\"))\n",
        "print(time_completeness)\n"
      ],
      "metadata": {
        "id": "Dejj6hipNxdr",
        "outputId": "268c2811-bf22-45e1-fa4e-ca532e27d5f5",
        "colab": {
          "base_uri": "https://localhost:8080/"
        }
      },
      "execution_count": null,
      "outputs": [
        {
          "output_type": "stream",
          "name": "stdout",
          "text": [
            "id       id_2      \n",
            "1030000  -1.0          False\n",
            "          1030002.0    False\n",
            "          1030004.0    False\n",
            "          1030006.0    False\n",
            "          1030008.0    False\n",
            "                       ...  \n",
            "1330014   1300004.0    False\n",
            "          1330016.0    False\n",
            "1330016   1300000.0    False\n",
            "          1300002.0    False\n",
            "          1300004.0    False\n",
            "Name: full_day_coverage, Length: 4199, dtype: bool\n"
          ]
        }
      ]
    },
    {
      "cell_type": "code",
      "source": [],
      "metadata": {
        "id": "fDuHQu_cgt_F"
      },
      "execution_count": null,
      "outputs": []
    }
  ]
}